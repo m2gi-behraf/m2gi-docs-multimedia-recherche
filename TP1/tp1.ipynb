{
 "cells": [
  {
   "cell_type": "code",
   "execution_count": 31,
   "metadata": {},
   "outputs": [
    {
     "data": {
      "text/plain": [
       "(array([4.52788991e-01, 2.57553517e-02, 4.89296636e-05, 0.00000000e+00,\n",
       "        1.12721713e-02, 1.81529052e-02, 1.83486239e-05, 0.00000000e+00,\n",
       "        0.00000000e+00, 0.00000000e+00, 0.00000000e+00, 0.00000000e+00,\n",
       "        0.00000000e+00, 0.00000000e+00, 0.00000000e+00, 0.00000000e+00,\n",
       "        4.53333333e-02, 4.82568807e-03, 0.00000000e+00, 0.00000000e+00,\n",
       "        1.41957187e-02, 1.18134557e-01, 7.13149847e-03, 0.00000000e+00,\n",
       "        0.00000000e+00, 1.87155963e-03, 5.64525994e-03, 0.00000000e+00,\n",
       "        0.00000000e+00, 0.00000000e+00, 0.00000000e+00, 0.00000000e+00,\n",
       "        3.98103976e-02, 9.17431193e-04, 0.00000000e+00, 0.00000000e+00,\n",
       "        1.23975535e-02, 1.75840979e-02, 1.20489297e-03, 0.00000000e+00,\n",
       "        3.05810398e-05, 2.04281346e-03, 1.45388379e-01, 6.61162080e-03,\n",
       "        0.00000000e+00, 0.00000000e+00, 3.83486239e-03, 3.51865443e-02,\n",
       "        0.00000000e+00, 0.00000000e+00, 0.00000000e+00, 0.00000000e+00,\n",
       "        3.66972477e-05, 3.15596330e-03, 1.16207951e-04, 0.00000000e+00,\n",
       "        0.00000000e+00, 3.11926606e-04, 1.85321101e-03, 1.46788991e-04,\n",
       "        0.00000000e+00, 0.00000000e+00, 3.60856269e-04, 2.38348624e-02]),\n",
       " array([ 0.      ,  0.984375,  1.96875 ,  2.953125,  3.9375  ,  4.921875,\n",
       "         5.90625 ,  6.890625,  7.875   ,  8.859375,  9.84375 , 10.828125,\n",
       "        11.8125  , 12.796875, 13.78125 , 14.765625, 15.75    , 16.734375,\n",
       "        17.71875 , 18.703125, 19.6875  , 20.671875, 21.65625 , 22.640625,\n",
       "        23.625   , 24.609375, 25.59375 , 26.578125, 27.5625  , 28.546875,\n",
       "        29.53125 , 30.515625, 31.5     , 32.484375, 33.46875 , 34.453125,\n",
       "        35.4375  , 36.421875, 37.40625 , 38.390625, 39.375   , 40.359375,\n",
       "        41.34375 , 42.328125, 43.3125  , 44.296875, 45.28125 , 46.265625,\n",
       "        47.25    , 48.234375, 49.21875 , 50.203125, 51.1875  , 52.171875,\n",
       "        53.15625 , 54.140625, 55.125   , 56.109375, 57.09375 , 58.078125,\n",
       "        59.0625  , 60.046875, 61.03125 , 62.015625, 63.      ]),\n",
       " <BarContainer object of 64 artists>)"
      ]
     },
     "execution_count": 31,
     "metadata": {},
     "output_type": "execute_result"
    },
    {
     "data": {
      "image/png": "[encoded data removed]",
      "text/plain": [
       "<Figure size 640x480 with 1 Axes>"
      ]
     },
     "metadata": {},
     "output_type": "display_data"
    }
   ],
   "source": [
    "import matplotlib.pyplot as plt\n",
    "import matplotlib.image as mpimg\n",
    "import numpy as np\n",
    "\n",
    "#Iterate over image\n",
    "# on doit obtenir des valeurs entre 1 et 3 en fonction de la couleur du pixel\n",
    "def histogram(name):\n",
    "\n",
    "    img=mpimg.imread(name)\n",
    "    h = np.zeros((4,4,4))\n",
    "    for row in img:\n",
    "        for pixel in row:\n",
    "            r = pixel[0]//64 #// pour division entière\n",
    "            g = pixel[1]//64\n",
    "            b = pixel[2]//64\n",
    "            h[r][g][b] += 1\n",
    "\n",
    "    h = h/(img.shape[0]*img.shape[1])\n",
    "    return h\n",
    "\n",
    "h = histogram('cursed.jpg')\n",
    "h1 = histogram('17824.jpg')\n",
    "plt.hist(range(0,64),64,weights=np.ravel(h))"
   ]
  },
  {
   "cell_type": "code",
   "execution_count": 32,
   "metadata": {},
   "outputs": [
    {
     "data": {
      "text/plain": [
       "0.6038387533268613"
      ]
     },
     "execution_count": 32,
     "metadata": {},
     "output_type": "execute_result"
    }
   ],
   "source": [
    "import matplotlib.pyplot as plt\n",
    "import matplotlib.image as mpimg\n",
    "import numpy as np\n",
    "\n",
    "def chi2(x, y):\n",
    "    x = np.ravel(x)\n",
    "    y = np.ravel(y)\n",
    "    dist = 0\n",
    "\n",
    "    for (xi, yi) in zip(x,y):\n",
    "        if(xi != 0 or yi != 0):\n",
    "            dist += pow(xi-yi,2)/(xi+yi)\n",
    "    \n",
    "    return dist\n",
    "    \n",
    "chi2(h, h1)"
   ]
  }
 ],
 "metadata": {
  "kernelspec": {
   "display_name": "Python 3",
   "language": "python",
   "name": "python3"
  },
  "language_info": {
   "codemirror_mode": {
    "name": "ipython",
    "version": 3
   },
   "file_extension": ".py",
   "mimetype": "text/x-python",
   "name": "python",
   "nbconvert_exporter": "python",
   "pygments_lexer": "ipython3",
   "version": "3.11.1"
  },
  "orig_nbformat": 4,
  "vscode": {
   "interpreter": {
    "hash": "5c7b89af1651d0b8571dde13640ecdccf7d5a6204171d6ab33e7c296e100e08a"
   }
  }
 },
 "nbformat": 4,
 "nbformat_minor": 2
}
